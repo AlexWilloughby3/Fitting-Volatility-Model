{
 "cells": [
  {
   "cell_type": "code",
   "execution_count": 47,
   "id": "41f52afc-ad15-42ef-80fe-d639e1ce7a8e",
   "metadata": {},
   "outputs": [
    {
     "name": "stdout",
     "output_type": "stream",
     "text": [
      "   Volatility_20    SMA_20    EMA_20  Upper_Band  Lower_Band    ATR_14  \\\n",
      "0       0.054365  0.917634  0.940645    1.026364    0.808904  0.069794   \n",
      "1       0.051084  0.915988  0.935084    1.018155    0.813820  0.067323   \n",
      "2       0.052027  0.915681  0.933879    1.019736    0.811626  0.063417   \n",
      "3       0.048601  0.921484  0.936775    1.018687    0.824282  0.064174   \n",
      "4       0.049017  0.927985  0.944551    1.026019    0.829952  0.065928   \n",
      "\n",
      "   Return_Lag_1  Return_Lag_5  Return_Lag_10  \n",
      "0     -0.033735     -0.106904      -0.035478  \n",
      "1     -0.014339     -0.103234      -0.072728  \n",
      "2      0.045541     -0.060796      -0.089758  \n",
      "3      0.045372      0.062731      -0.029759  \n",
      "4      0.056134      0.099398       0.073529  \n",
      "0    1\n",
      "1    1\n",
      "2    1\n",
      "3    0\n",
      "4    0\n",
      "Name: Volatility_20, dtype: int64\n"
     ]
    }
   ],
   "source": [
    "import numpy as np # type: ignore\n",
    "import pandas as pd # type: ignore\n",
    "import json\n",
    "\n",
    "# Load the JSON file\n",
    "with open('data.json', 'r') as f:\n",
    "    json_data = json.load(f)\n",
    "\n",
    "# Convert the JSON data to a DataFrame\n",
    "# Assuming the JSON structure is a dictionary where the values are lists of metrics\n",
    "data = pd.DataFrame(json_data)\n",
    "\n",
    "# Define the list of features you want to use\n",
    "features = ['Volatility_20', 'SMA_20', 'EMA_20', 'Upper_Band', 'Lower_Band', \n",
    "            'ATR_14', 'Return_Lag_1', 'Return_Lag_5', 'Return_Lag_10']\n",
    "\n",
    "# Ensure the data contains the necessary columns\n",
    "missing_features = [col for col in features if col not in data.columns]\n",
    "if missing_features:\n",
    "    raise ValueError(f\"The following required features are missing from the data: {missing_features}\")\n",
    "\n",
    "# Select the input features (X)\n",
    "X = data[features]\n",
    "\n",
    "# Define a threshold for the target variable based on Rolling Volatility\n",
    "# Assuming 'threshold' is a value you've defined earlier in the code\n",
    "threshold = 0.05  # Example threshold (replace with your actual threshold)\n",
    "\n",
    "# Create the binary target variable (y)\n",
    "y = (data['Volatility_20'] > threshold).astype(int)\n",
    "\n",
    "# Display the first few rows of the DataFrame for validation\n",
    "print(X.head())\n",
    "print(y.head())\n"
   ]
  },
  {
   "cell_type": "code",
   "execution_count": 48,
   "id": "e3c2fea0",
   "metadata": {},
   "outputs": [],
   "source": [
    "from sklearn.model_selection import train_test_split # type: ignore\n",
    "\n",
    "# Split data into training and testing sets\n",
    "X_train, X_test, y_train, y_test = train_test_split(X, y, test_size=0.2, random_state=42)\n"
   ]
  },
  {
   "cell_type": "code",
   "execution_count": 49,
   "id": "5c6fd719",
   "metadata": {},
   "outputs": [],
   "source": [
    "from sklearn.linear_model import LogisticRegression\n",
    "\n",
    "model_lr = LogisticRegression()\n",
    "model_lr.fit(X_train, y_train)\n",
    "\n",
    "lr_pred_train = model_lr.predict_proba(X_train)[:, 1]  # Probability for class 1\n",
    "lr_pred_test = model_lr.predict_proba(X_test)[:, 1]\n"
   ]
  },
  {
   "cell_type": "code",
   "execution_count": 50,
   "id": "1dc594dd",
   "metadata": {},
   "outputs": [],
   "source": [
    "from sklearn.ensemble import RandomForestClassifier\n",
    "\n",
    "model_rf = RandomForestClassifier(n_estimators=200, max_depth=5, random_state=42)\n",
    "model_rf.fit(X_train, y_train)\n",
    "\n",
    "rf_pred_train = model_rf.predict_proba(X_train)[:, 1]\n",
    "rf_pred_test = model_rf.predict_proba(X_test)[:, 1]\n"
   ]
  },
  {
   "cell_type": "code",
   "execution_count": 51,
   "id": "147b83d6",
   "metadata": {},
   "outputs": [],
   "source": [
    "from sklearn.ensemble import GradientBoostingClassifier\n",
    "\n",
    "model_gbm = GradientBoostingClassifier(n_estimators=200, learning_rate=0.1, max_depth=5, random_state=42)\n",
    "model_gbm.fit(X_train, y_train)\n",
    "\n",
    "gbm_pred_train = model_gbm.predict_proba(X_train)[:, 1]\n",
    "gbm_pred_test = model_gbm.predict_proba(X_test)[:, 1]\n"
   ]
  },
  {
   "cell_type": "code",
   "execution_count": 52,
   "id": "78766f72",
   "metadata": {},
   "outputs": [],
   "source": [
    "train_stack = np.column_stack((lr_pred_train, rf_pred_train, gbm_pred_train))\n",
    "test_stack = np.column_stack((lr_pred_test, rf_pred_test, gbm_pred_test))\n"
   ]
  },
  {
   "cell_type": "code",
   "execution_count": 53,
   "id": "982e5ae7",
   "metadata": {},
   "outputs": [],
   "source": [
    "# Train the meta-model\n",
    "model_meta = LogisticRegression()\n",
    "model_meta.fit(train_stack, y_train)\n",
    "\n",
    "# Final predictions on the test set\n",
    "final_pred = model_meta.predict_proba(test_stack)[:, 1]\n"
   ]
  },
  {
   "cell_type": "code",
   "execution_count": 54,
   "id": "177ff0a3",
   "metadata": {},
   "outputs": [
    {
     "name": "stdout",
     "output_type": "stream",
     "text": [
      "Accuracy: 1.0\n",
      "ROC-AUC: 1.0\n"
     ]
    }
   ],
   "source": [
    "from sklearn.metrics import accuracy_score, roc_auc_score\n",
    "\n",
    "# Convert probabilities to binary predictions (0 or 1)\n",
    "final_pred_binary = (final_pred > 0.5).astype(int)\n",
    "\n",
    "# Evaluate performance\n",
    "accuracy = accuracy_score(y_test, final_pred_binary)\n",
    "roc_auc = roc_auc_score(y_test, final_pred)\n",
    "\n",
    "print(f\"Accuracy: {accuracy}\")\n",
    "print(f\"ROC-AUC: {roc_auc}\")\n"
   ]
  },
  {
   "cell_type": "code",
   "execution_count": 55,
   "id": "8cdaed3a",
   "metadata": {},
   "outputs": [],
   "source": [
    "# Generate trading signals based on final predictions\n",
    "data['Ensemble_Signal'] = 0  # Default to hold/no action\n",
    "data.loc[X_test.index, 'Ensemble_Signal'] = final_pred_binary  # Update with model's prediction\n",
    "\n",
    "# 1 = Buy, 0 = Hold/Sell (depending on how you set up the strategy)\n"
   ]
  },
  {
   "cell_type": "code",
   "execution_count": 56,
   "id": "75dc1d79",
   "metadata": {},
   "outputs": [
    {
     "name": "stdout",
     "output_type": "stream",
     "text": [
      "position end: 0\n",
      "Final Portfolio Value: $42825126.42\n"
     ]
    }
   ],
   "source": [
    "def backtest_strategy(signals, prices):\n",
    "    initial_cash = 100000000\n",
    "    cash = initial_cash\n",
    "    position = 0  # Number of shares held\n",
    "\n",
    "    for i in range(len(signals)):\n",
    "        if signals[i] == 1:  # Buy signal\n",
    "            position += cash / prices[i]  # Buy as many shares as possible\n",
    "            cash = 0  # All cash used to buy shares\n",
    "        elif signals[i] == 0 and position > 0:  # Sell signal (assuming 0 = sell)\n",
    "            cash += position * prices[i]  # Sell all shares\n",
    "            position = 0  # No shares left\n",
    "\n",
    "    # Final portfolio value\n",
    "    final_value = cash + position * prices[len(signals) - 1]\n",
    "    print(f'position end: {position}')\n",
    "    return final_value\n",
    "\n",
    "# Assuming 'Close' prices are available in the 'data' DataFrame\n",
    "final_portfolio_value = backtest_strategy(data['Ensemble_Signal'], data['Close'])\n",
    "print(f\"Final Portfolio Value: ${final_portfolio_value:.2f}\")\n"
   ]
  }
 ],
 "metadata": {
  "kernelspec": {
   "display_name": "Python 3 (ipykernel)",
   "language": "python",
   "name": "python3"
  },
  "language_info": {
   "codemirror_mode": {
    "name": "ipython",
    "version": 3
   },
   "file_extension": ".py",
   "mimetype": "text/x-python",
   "name": "python",
   "nbconvert_exporter": "python",
   "pygments_lexer": "ipython3",
   "version": "3.12.5"
  }
 },
 "nbformat": 4,
 "nbformat_minor": 5
}
